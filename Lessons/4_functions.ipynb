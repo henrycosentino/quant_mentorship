{
 "cells": [
  {
   "cell_type": "markdown",
   "id": "f2beb8e7",
   "metadata": {},
   "source": [
    "# **Functions**\n",
    "\n",
    "- A function is a block of statements (code) that will perform a task. Normally, a function is made for a commonly repeated task\n",
    "\n",
    "- A function is an object, and can be used similarly to how we have been using other objects in Python\n",
    "\n",
    "- **_Invoke_** a function with keyword \"def\"\n",
    "\n",
    "- **_Call_** a function with the functions given name and (open/close) parenthesis\n",
    "\n",
    "- ### Lesson Overview\n",
    "    - **lambda** \n",
    "\n",
    "    - **Function Arguments** \n",
    "\n",
    "    - **Higher Order Functions**\n",
    "\n",
    "    - **Decorators**"
   ]
  },
  {
   "cell_type": "markdown",
   "id": "25716904",
   "metadata": {},
   "source": [
    "# lambda\n",
    "\n",
    "- A one-line shorthand function\n",
    "\n",
    "- ### Characteristics\n",
    "    - **Anonymous:** no function name is required (we are not going to use it again, so it isn't assigned to a variable)\n",
    "\n",
    "    - **Inline:** defined where they are used\n",
    "\n",
    "    - **Implied Return:** no actual return statement is needed, lambda automatically returns\n",
    "\n",
    "    - **Single Expression:** can only contain one expression\n",
    "\n",
    "\n",
    "- ### Use Cases\n",
    "    - lambda functions excel for short, simple operations passed to higher order functions such as map(), sorted(), and filter()\n",
    "\n",
    "    - For more complex calculuations/comparisons or functional reusability, \"def\" will typically be more appropriate"
   ]
  },
  {
   "cell_type": "code",
   "execution_count": 101,
   "id": "369d7183",
   "metadata": {},
   "outputs": [
    {
     "name": "stdout",
     "output_type": "stream",
     "text": [
      "def result: 18\n",
      "lambda result: 18\n",
      "lambda object: <function <lambda> at 0x1157b1080>\n",
      "function object:  <function add_def at 0x1157b2d40>\n"
     ]
    }
   ],
   "source": [
    "# lambda vs def\n",
    "\n",
    "def add_def(x, y):\n",
    "    return x + y\n",
    "\n",
    "add_lambda = lambda x, y: x + y\n",
    "\n",
    "x = 5\n",
    "y = 13\n",
    "\n",
    "print(\"def result:\", add_def(x, y))\n",
    "print(\"lambda result:\", add_lambda(x, y))\n",
    "print(\"lambda object:\", add_lambda)\n",
    "print(\"function object: \", add_def)"
   ]
  },
  {
   "cell_type": "code",
   "execution_count": 102,
   "id": "caf43f12",
   "metadata": {},
   "outputs": [
    {
     "name": "stdout",
     "output_type": "stream",
     "text": [
      "Got an A!\n"
     ]
    }
   ],
   "source": [
    "# Variable Assignment\n",
    "\n",
    "grade = lambda grade: print(\"Got an A!\") if grade >= 90 else print(\"Not an A...\")\n",
    "\n",
    "g = 90\n",
    "\n",
    "grade(g)"
   ]
  },
  {
   "cell_type": "code",
   "execution_count": 103,
   "id": "ce3ea5bc",
   "metadata": {},
   "outputs": [
    {
     "name": "stdout",
     "output_type": "stream",
     "text": [
      "Henry is awesome\n"
     ]
    }
   ],
   "source": [
    "# Multiple Assignment\n",
    "\n",
    "concat_str = lambda x, y: (x + ' ' + y)\n",
    "\n",
    "x = 'Henry'\n",
    "y = 'is awesome'\n",
    "\n",
    "print(concat_str(x, y))"
   ]
  },
  {
   "cell_type": "code",
   "execution_count": 104,
   "id": "d7c1c72c",
   "metadata": {},
   "outputs": [
    {
     "data": {
      "text/plain": [
       "{'One Month': 0.39171171171171176,\n",
       " 'Three Month': 0.4424442609413708,\n",
       " 'Six Month': 0.663912394225983,\n",
       " 'One Year': 0.23132969034608386}"
      ]
     },
     "execution_count": 104,
     "metadata": {},
     "output_type": "execute_result"
    }
   ],
   "source": [
    "# With Other Functions\n",
    "\n",
    "# map: used to apply a given function to every item of an iterable\n",
    "\n",
    "px_hist_dict = {\n",
    "    \"One Month\": 55.50,\n",
    "    \"Three Month\": 60.55,\n",
    "    \"Six Month\": 100.45,\n",
    "    \"One Year\": 43.92\n",
    "}\n",
    "\n",
    "# pct_chg = lambda px: (px - 33.76) / px, where 33.76 is the initial price (ie last trading day of Dec)\n",
    "\n",
    "periods = list(px_hist_dict.keys())\n",
    "pct_chgs = list(map(lambda px: (((px - 33.76) / px)), px_hist_dict.values())) # where 33.76 is the initial price (ie last trading day of Dec)\n",
    "pct_chg_dict = dict(zip(periods, pct_chgs))\n",
    "\n",
    "pct_chg_dict"
   ]
  },
  {
   "cell_type": "code",
   "execution_count": 105,
   "id": "05e1fac6",
   "metadata": {},
   "outputs": [
    {
     "name": "stdout",
     "output_type": "stream",
     "text": [
      "Sorting values: [0.23132969034608386, 0.39171171171171176, 0.4424442609413708, 0.663912394225983]\n",
      "Sorting items by values: {'Six Month': 0.663912394225983, 'Three Month': 0.4424442609413708, 'One Month': 0.39171171171171176, 'One Year': 0.23132969034608386}\n",
      "No change (not inplace): {'One Month': 0.39171171171171176, 'Three Month': 0.4424442609413708, 'Six Month': 0.663912394225983, 'One Year': 0.23132969034608386}\n"
     ]
    }
   ],
   "source": [
    "# With Other Functions (continued)\n",
    "\n",
    "# sorted: returns a sorted list of the specified iterable object (not inplace)\n",
    "\n",
    "print(\"Sorting values:\", sorted(pct_chg_dict.values()))\n",
    "print(\"Sorting items by values:\", dict(sorted(pct_chg_dict.items(), key=lambda x: x[1], reverse=True)))\n",
    "print(\"No change (not inplace):\", pct_chg_dict)"
   ]
  },
  {
   "cell_type": "markdown",
   "id": "64a43e6a",
   "metadata": {},
   "source": [
    "# Function Arguments\n",
    "- Arguments are often called parameters. They are the thing the function takes in and applies some functionality to, and they are optional (you can have a function that does not take any arguments)\n",
    "\n",
    "- Argument Types:\n",
    "    - **Positional:** positional arguments are called by their position in the function (mapping)\n",
    "\n",
    "    - **Keyword:** keyword arguments are called by their name (explicit assignment)\n",
    "    \n",
    "    - **Default:** default arguments are assigned default values (they do not need to be assigned when calling the function, but they can be changed)"
   ]
  },
  {
   "cell_type": "code",
   "execution_count": 106,
   "id": "831d73ab",
   "metadata": {},
   "outputs": [
    {
     "name": "stdout",
     "output_type": "stream",
     "text": [
      "{'Burger': 10}\n",
      "{'Beans': 1, 'Pasta': 3}\n",
      "Expedite this order!\n"
     ]
    }
   ],
   "source": [
    "# Arguments\n",
    "\n",
    "from collections import deque\n",
    "order_queue = deque()\n",
    "\n",
    "def take_order(name, items: dict, speed: bool=False):\n",
    "    order_queue.append((name, items, speed))\n",
    "    print(items)\n",
    "    if speed == True: print(\"Expedite this order!\")\n",
    "\n",
    "# Positional and default arguments\n",
    "take_order(\"Henry\", {\"Burger\": 10})\n",
    "\n",
    "# Keyword arguments\n",
    "take_order(speed=True, name=\"Nico\", items={\"Beans\": 1, \"Pasta\": 3})"
   ]
  },
  {
   "cell_type": "code",
   "execution_count": 107,
   "id": "a615c60a",
   "metadata": {},
   "outputs": [
    {
     "data": {
      "text/plain": [
       "deque([('Henry', {'Burger': 10}, False),\n",
       "       ('Nico', {'Beans': 1, 'Pasta': 3}, True)])"
      ]
     },
     "execution_count": 107,
     "metadata": {},
     "output_type": "execute_result"
    }
   ],
   "source": [
    "order_queue"
   ]
  },
  {
   "cell_type": "markdown",
   "id": "d8c3d43e",
   "metadata": {},
   "source": [
    "### Function Arguments with Unpacking Operators\n",
    "\n",
    "- ***args**\n",
    "    - The unpacking operator * allows us to give our functions a **_variable_** number of arguments by performing **_positional_** argument unpacking\n",
    "\n",
    "    - Collects extra positional arguments into a tuple\n",
    "\n",
    "    - Useful when a varying amount of arguments are expected to be passed\n",
    "    \n",
    "\n",
    "- ****kwargs**\n",
    "    - The unpacking operator ** allows us to give our functions a **_variable_** number of arguments by performing **_keyword_** argument unpacking \n",
    "\n",
    "    - Collects extra keyword arguments into a dictionary\n",
    "\n",
    "    - Gives us the power to define functions with unlimited keyword arguments\n",
    "\n",
    "    - Since **kwargs is a dictionary, standard dictionary functions can be used"
   ]
  },
  {
   "cell_type": "code",
   "execution_count": 108,
   "id": "e1ecbea3",
   "metadata": {},
   "outputs": [
    {
     "name": "stdout",
     "output_type": "stream",
     "text": [
      "<class 'tuple'>\n",
      "JOE\n",
      "BOB\n",
      "BILL\n",
      "MATT\n",
      "ALBERT\n",
      "EMMA\n",
      "MATILDA\n",
      "MARY\n",
      "BARBARA\n"
     ]
    }
   ],
   "source": [
    "# *args (postional, tuple)\n",
    "\n",
    "people = ['Joe', 'Bob', 'Bill', 'Matt', 'Albert', 'Emma', 'Matilda', 'Mary', 'Barbara']\n",
    "\n",
    "def print_ppl(*args, upper=False):\n",
    "    print(type(args))\n",
    "    for person in args:\n",
    "        if upper:\n",
    "            print(person.upper())\n",
    "        else:\n",
    "            print(person)\n",
    "\n",
    "print_ppl(*people, upper=True)"
   ]
  },
  {
   "cell_type": "code",
   "execution_count": 109,
   "id": "69b46595",
   "metadata": {},
   "outputs": [
    {
     "name": "stdout",
     "output_type": "stream",
     "text": [
      "<class 'tuple'>\n",
      "JOE\n",
      "BILL\n",
      "BOB\n",
      "GWEN\n",
      "TRACY\n"
     ]
    }
   ],
   "source": [
    "print_ppl('Joe', 'Bill', 'Bob', 'Gwen', 'Tracy', upper=True)"
   ]
  },
  {
   "cell_type": "code",
   "execution_count": 110,
   "id": "6da3b0a2",
   "metadata": {},
   "outputs": [
    {
     "name": "stdout",
     "output_type": "stream",
     "text": [
      "<class 'tuple'>\n",
      "Nico\n",
      "Henry\n"
     ]
    }
   ],
   "source": [
    "print_ppl('Nico', 'Henry')"
   ]
  },
  {
   "cell_type": "code",
   "execution_count": 111,
   "id": "aeefafe8",
   "metadata": {},
   "outputs": [
    {
     "name": "stdout",
     "output_type": "stream",
     "text": [
      "<class 'dict'>\n",
      "{'JPM': {'name': 'JPMorgan Chase & Co.', 'sector': 'Financial Services', 'industry': 'Banking', 'exchange': 'NYSE'}, 'BAC': {'name': 'Bank of America Corp.', 'sector': 'Financial Services', 'industry': 'Banking', 'exchange': 'NYSE'}, 'WFC': {'name': 'Wells Fargo & Co.', 'sector': 'Financial Services', 'industry': 'Banking', 'exchange': 'NYSE'}, 'GS': {'name': 'Goldman Sachs Group Inc.', 'sector': 'Financial Services', 'industry': 'Investment Banking', 'exchange': 'NYSE'}, 'V': {'name': 'Visa Inc.', 'sector': 'Financial Services', 'industry': 'Payment Processing', 'exchange': 'NYSE'}}\n",
      "{'AAPL': {'name': 'Apple Inc.', 'sector': 'Technology', 'industry': 'Consumer Electronics', 'exchange': 'NASDAQ'}, 'MSFT': {'name': 'Microsoft Corporation', 'sector': 'Technology', 'industry': 'Software', 'exchange': 'NASDAQ'}, 'GOOGL': {'name': 'Alphabet Inc. Class A', 'sector': 'Technology', 'industry': 'Internet Services', 'exchange': 'NASDAQ'}, 'AMZN': {'name': 'Amazon.com Inc.', 'sector': 'Technology', 'industry': 'E-commerce/Cloud', 'exchange': 'NASDAQ'}, 'META': {'name': 'Meta Platforms Inc.', 'sector': 'Technology', 'industry': 'Social Media', 'exchange': 'NASDAQ'}, 'NVDA': {'name': 'NVIDIA Corporation', 'sector': 'Technology', 'industry': 'Semiconductors', 'exchange': 'NASDAQ'}}\n"
     ]
    }
   ],
   "source": [
    "# **kwargs (keyword, dictionary)\n",
    "\n",
    "stock_dict = {\n",
    "    \"technology\": {\n",
    "        \"AAPL\": {\n",
    "            \"name\": \"Apple Inc.\",\n",
    "            \"sector\": \"Technology\",\n",
    "            \"industry\": \"Consumer Electronics\",\n",
    "            \"exchange\": \"NASDAQ\"\n",
    "        },\n",
    "        \"MSFT\": {\n",
    "            \"name\": \"Microsoft Corporation\",\n",
    "            \"sector\": \"Technology\", \n",
    "            \"industry\": \"Software\",\n",
    "            \"exchange\": \"NASDAQ\"\n",
    "        },\n",
    "        \"GOOGL\": {\n",
    "            \"name\": \"Alphabet Inc. Class A\",\n",
    "            \"sector\": \"Technology\",\n",
    "            \"industry\": \"Internet Services\",\n",
    "            \"exchange\": \"NASDAQ\"\n",
    "        },\n",
    "        \"AMZN\": {\n",
    "            \"name\": \"Amazon.com Inc.\",\n",
    "            \"sector\": \"Technology\",\n",
    "            \"industry\": \"E-commerce/Cloud\",\n",
    "            \"exchange\": \"NASDAQ\"\n",
    "        },\n",
    "        \"META\": {\n",
    "            \"name\": \"Meta Platforms Inc.\",\n",
    "            \"sector\": \"Technology\",\n",
    "            \"industry\": \"Social Media\",\n",
    "            \"exchange\": \"NASDAQ\"\n",
    "        },\n",
    "        \"NVDA\": {\n",
    "            \"name\": \"NVIDIA Corporation\",\n",
    "            \"sector\": \"Technology\",\n",
    "            \"industry\": \"Semiconductors\",\n",
    "            \"exchange\": \"NASDAQ\"\n",
    "        }\n",
    "    },\n",
    "    \n",
    "    \"financials\": {\n",
    "        \"JPM\": {\n",
    "            \"name\": \"JPMorgan Chase & Co.\",\n",
    "            \"sector\": \"Financial Services\",\n",
    "            \"industry\": \"Banking\",\n",
    "            \"exchange\": \"NYSE\"\n",
    "        },\n",
    "        \"BAC\": {\n",
    "            \"name\": \"Bank of America Corp.\",\n",
    "            \"sector\": \"Financial Services\",\n",
    "            \"industry\": \"Banking\",\n",
    "            \"exchange\": \"NYSE\"\n",
    "        },\n",
    "        \"WFC\": {\n",
    "            \"name\": \"Wells Fargo & Co.\",\n",
    "            \"sector\": \"Financial Services\",\n",
    "            \"industry\": \"Banking\",\n",
    "            \"exchange\": \"NYSE\"\n",
    "        },\n",
    "        \"GS\": {\n",
    "            \"name\": \"Goldman Sachs Group Inc.\",\n",
    "            \"sector\": \"Financial Services\",\n",
    "            \"industry\": \"Investment Banking\",\n",
    "            \"exchange\": \"NYSE\"\n",
    "        },\n",
    "        \"V\": {\n",
    "            \"name\": \"Visa Inc.\",\n",
    "            \"sector\": \"Financial Services\",\n",
    "            \"industry\": \"Payment Processing\",\n",
    "            \"exchange\": \"NYSE\"\n",
    "        }\n",
    "    }\n",
    "}\n",
    "\n",
    "def get_sectors(**kwargs):\n",
    "    print(type(kwargs))\n",
    "    if kwargs.get('financials'):\n",
    "        print(kwargs.get('financials'))\n",
    "\n",
    "    if kwargs.get('healthcare'):\n",
    "        print(\"Hidden...\")\n",
    "\n",
    "    if kwargs.get('technology'):\n",
    "        print(kwargs.get('technology'))\n",
    "    \n",
    "get_sectors(**stock_dict)"
   ]
  },
  {
   "cell_type": "code",
   "execution_count": 112,
   "id": "df9094f0",
   "metadata": {},
   "outputs": [
    {
     "name": "stdout",
     "output_type": "stream",
     "text": [
      "<class 'dict'>\n",
      "['JPM', 'GS', 'MS', 'RF', 'WFC']\n",
      "Hidden...\n"
     ]
    }
   ],
   "source": [
    "get_sectors(financials=['JPM', 'GS', 'MS', 'RF', 'WFC'], healthcare=['BMY', 'LLY'])"
   ]
  },
  {
   "cell_type": "markdown",
   "id": "c924d324",
   "metadata": {},
   "source": [
    "# Higher Order Functions\n",
    "\n",
    "- Operate on other functions via arguments or return values\n",
    "    - They can accept a function as an argument\n",
    "\n",
    "    - They have a return value that is a function\n",
    "\n",
    "- Higher order functions are possible because functions are first-class objects in Python, meaning that a function can be stored as a variable, passed as an argument to a function, returned by the function, and stored in a data structure"
   ]
  },
  {
   "cell_type": "code",
   "execution_count": 113,
   "id": "d59cbcca",
   "metadata": {},
   "outputs": [
    {
     "data": {
      "text/plain": [
       "[0.0,\n",
       " 1.562500000000001e-08,\n",
       " 1.0000000000000006e-06,\n",
       " 1.1390624999999999e-05,\n",
       " 6.400000000000004e-05,\n",
       " 0.000244140625,\n",
       " 0.0007289999999999999,\n",
       " 0.0018382656249999992,\n",
       " 0.004096000000000002,\n",
       " 0.008303765625,\n",
       " 0.015625,\n",
       " 0.027680640625000013,\n",
       " 0.046655999999999996,\n",
       " 0.07541889062500003,\n",
       " 0.11764899999999995,\n",
       " 0.177978515625,\n",
       " 0.26214400000000015,\n",
       " 0.3771495156249999,\n",
       " 0.531441,\n",
       " 0.7350918906249999]"
      ]
     },
     "execution_count": 113,
     "metadata": {},
     "output_type": "execute_result"
    }
   ],
   "source": [
    "# Accepting a function as an argument\n",
    "\n",
    "math_func_dict = {\n",
    "    'percent': lambda x: x / 100,\n",
    "    'square': lambda x: x**2,\n",
    "    'cube': lambda x: x**3,\n",
    "}\n",
    "\n",
    "def apply_operations(iterable: list | tuple, **funcs):\n",
    "    final_ls = []\n",
    "\n",
    "    for i in iterable:\n",
    "        num = i\n",
    "        for func in funcs.values():\n",
    "            num = func(num)\n",
    "\n",
    "        final_ls.append(num)\n",
    "\n",
    "    return final_ls\n",
    "\n",
    "nums = list(range(0, 100, 5))\n",
    "\n",
    "apply_operations(nums, **math_func_dict)"
   ]
  },
  {
   "cell_type": "code",
   "execution_count": 114,
   "id": "1704e580",
   "metadata": {},
   "outputs": [
    {
     "data": {
      "text/plain": [
       "[0.0,\n",
       " 0.05,\n",
       " 0.1,\n",
       " 0.15,\n",
       " 0.2,\n",
       " 0.25,\n",
       " 0.3,\n",
       " 0.35,\n",
       " 0.4,\n",
       " 0.45,\n",
       " 0.5,\n",
       " 0.55,\n",
       " 0.6,\n",
       " 0.65,\n",
       " 0.7,\n",
       " 0.75,\n",
       " 0.8,\n",
       " 0.85,\n",
       " 0.9,\n",
       " 0.95]"
      ]
     },
     "execution_count": 114,
     "metadata": {},
     "output_type": "execute_result"
    }
   ],
   "source": [
    "apply_operations(nums, percent=lambda x: x / 100)"
   ]
  },
  {
   "cell_type": "code",
   "execution_count": null,
   "id": "b736d0ce",
   "metadata": {},
   "outputs": [],
   "source": [
    "# Returning a function\n",
    "\n",
    "import numpy as np\n",
    "\n",
    "def get_stats_func(type: str):\n",
    "    def mean(data: list | tuple | np.ndarray):\n",
    "        return np.mean(data)\n",
    "    \n",
    "    def st_dev(data: list | tuple | np.ndarray, ddof: int=0):\n",
    "        return np.std(data, ddof)\n",
    "\n",
    "    if type.lower() in ['mean', 'average']:\n",
    "        return mean\n",
    "    \n",
    "    elif type.lower() in ['standard deviation', 'st dev']:\n",
    "        return st_dev"
   ]
  },
  {
   "cell_type": "code",
   "execution_count": 116,
   "id": "816d16ae",
   "metadata": {},
   "outputs": [
    {
     "name": "stdout",
     "output_type": "stream",
     "text": [
      "<function get_stats_func.<locals>.mean at 0x1157b0900>\n"
     ]
    }
   ],
   "source": [
    "print(get_stats_func('mean'))"
   ]
  },
  {
   "cell_type": "code",
   "execution_count": 117,
   "id": "c2641dbf",
   "metadata": {},
   "outputs": [
    {
     "name": "stdout",
     "output_type": "stream",
     "text": [
      "14.430869689661812\n"
     ]
    }
   ],
   "source": [
    "np_data = np.arange(1, 51, 1)\n",
    "\n",
    "st_dev_func = get_stats_func('st dev')\n",
    "\n",
    "print(st_dev_func(np_data))"
   ]
  },
  {
   "cell_type": "markdown",
   "id": "f2ce9a90",
   "metadata": {},
   "source": [
    "### functools"
   ]
  },
  {
   "cell_type": "code",
   "execution_count": 118,
   "id": "07faab64",
   "metadata": {},
   "outputs": [],
   "source": [
    "from functools import reduce"
   ]
  },
  {
   "cell_type": "markdown",
   "id": "e9ee2807",
   "metadata": {},
   "source": [
    "### Built-In Higher Order Functions\n",
    "\n",
    "- Higher order functions that the Python library has ready to go!\n",
    "    - map()\n",
    "        - Applies the passed function to each and every element in the iterable, returning a map object\n",
    "        - map_object = map(function, iterable)\n",
    "\n",
    "    - filter()\n",
    "        - Takes a function and an iterable as arguments, and filters each element in the iterable based on the criteria provided within the passed function\n",
    "        - filter_object = filter(function, iterable)\n",
    "\n",
    "    - reduce()\n",
    "        - \"from functools import reduce\"\n",
    "        - Reduces an iterable to a single value by cumulatively applying a passed function to the first pair of elements in the iterable and then each sequential element with the return value"
   ]
  },
  {
   "cell_type": "code",
   "execution_count": 127,
   "id": "05694759",
   "metadata": {},
   "outputs": [
    {
     "data": {
      "text/plain": [
       "<filter at 0x11586ce20>"
      ]
     },
     "execution_count": 127,
     "metadata": {},
     "output_type": "execute_result"
    }
   ],
   "source": [
    "# filter()\n",
    "\n",
    "names = ['Nico', 'Henry', 'Bane', 'Joker']\n",
    "\n",
    "new_names_object = filter(lambda x: x != 'Henry', names)\n",
    "\n",
    "new_names_object"
   ]
  },
  {
   "cell_type": "code",
   "execution_count": 128,
   "id": "854ebde9",
   "metadata": {},
   "outputs": [
    {
     "data": {
      "text/plain": [
       "['Nico', 'Bane', 'Joker']"
      ]
     },
     "execution_count": 128,
     "metadata": {},
     "output_type": "execute_result"
    }
   ],
   "source": [
    "list(new_names_object)"
   ]
  },
  {
   "cell_type": "code",
   "execution_count": 131,
   "id": "a8a879e7",
   "metadata": {},
   "outputs": [
    {
     "data": {
      "text/plain": [
       "5040"
      ]
     },
     "execution_count": 131,
     "metadata": {},
     "output_type": "execute_result"
    }
   ],
   "source": [
    "# reduce()\n",
    "\n",
    "nums = list(range(1, 8))\n",
    "\n",
    "seven_factorial = reduce(lambda x, y: x*y, nums)\n",
    "\n",
    "seven_factorial"
   ]
  },
  {
   "cell_type": "markdown",
   "id": "f522ca76",
   "metadata": {},
   "source": [
    "# Decorators (@)\n",
    "\n",
    "- Powerful feature that allows you to modify or enhance the behavior of functions and methods without permanently altering their code\n",
    "\n",
    "- A decorator will wrap a function with another function, creating a clean way to add additional functionality to the _sub-function_\n",
    "\n",
    "- Abstracting away some additional (optional) functionality"
   ]
  },
  {
   "cell_type": "code",
   "execution_count": 122,
   "id": "d5348864",
   "metadata": {},
   "outputs": [
    {
     "data": {
      "text/plain": [
       "['0.00%', '100.00%', '200.00%', '300.00%', '400.00%', '500.00%', '600.00%']"
      ]
     },
     "execution_count": 122,
     "metadata": {},
     "output_type": "execute_result"
    }
   ],
   "source": [
    "# Decorator\n",
    "\n",
    "def beautify_percentages(pct_chg_func):\n",
    "    \"\"\"\n",
    "    Notice the parameter gets passed to wrapper()\n",
    "    wrapper() will use the parameter initally passed to pct_chg_func()\n",
    "    \"\"\"\n",
    "    def wrapper(data):\n",
    "        pct_ls = pct_chg_func(data)\n",
    "        return [f\"{pct*100:.2f}%\" for pct in pct_ls]\n",
    "    return wrapper # Returns a function\n",
    "\n",
    "@beautify_percentages\n",
    "def pct_chg_func(data):\n",
    "    start = data[0]\n",
    "    return [(x - start) / start for x in data]\n",
    "\n",
    "pct_chg_func(nums)"
   ]
  }
 ],
 "metadata": {
  "kernelspec": {
   "display_name": "base",
   "language": "python",
   "name": "python3"
  },
  "language_info": {
   "codemirror_mode": {
    "name": "ipython",
    "version": 3
   },
   "file_extension": ".py",
   "mimetype": "text/x-python",
   "name": "python",
   "nbconvert_exporter": "python",
   "pygments_lexer": "ipython3",
   "version": "3.12.3"
  }
 },
 "nbformat": 4,
 "nbformat_minor": 5
}
