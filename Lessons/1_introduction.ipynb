{
 "cells": [
  {
   "cell_type": "markdown",
   "id": "bd0299bf",
   "metadata": {},
   "source": [
    "# **Introduction to Python**\n",
    "\n",
    "- Object oriented programming language\n",
    "\n",
    "- Interpreted language\n",
    "    - Automatically interprets the given code into bytecode so the computer can understand the command\n",
    "    - Makes for easy testing in development and data analysis, but is slow when implemented in production\n",
    "\n",
    "- Syntax == sugar"
   ]
  },
  {
   "cell_type": "markdown",
   "id": "52bde40a",
   "metadata": {},
   "source": [
    "### **Data Types**\n",
    "\n",
    "**Text Type**\n",
    "- str: string representation (ie \"Henry\" or \"Nico\")\n",
    "\n",
    "**Number Type**\n",
    "- int: integer representation (ie 0 or 2)\n",
    "- float: floating point represention (ie 2.34)\n",
    "\n",
    "**Boolean Type**\n",
    "- bool: True or False\n",
    "\n",
    "**Sequence Type**\n",
    "- list: mutable data structure that holds data (ie [1,2,3,4,5])\n",
    "- tuple: immutable data structure that sholds data (ie (1,2,3,4,5))\n",
    "- range: sequence of numbers in a range\n",
    "\n",
    "**Map Type**\n",
    "- dict: key-value pair data structure, one of the most powerful data structures there is (ie {\"Henry\": \"Awesome\", \"Nico\": \"Kinda Awesome\"})\n",
    "\n",
    "**Set Type**\n",
    "- set: unordered collection of unique items (ie {1,2,3,4,5,6})\n",
    "\n",
    "**None Type**\n",
    "- NoneType: represents the absence of a value (ie None)"
   ]
  },
  {
   "cell_type": "code",
   "execution_count": 25,
   "id": "0f170021",
   "metadata": {},
   "outputs": [
    {
     "name": "stdout",
     "output_type": "stream",
     "text": [
      "<class 'str'>\n",
      "<class 'int'>\n",
      "<class 'float'>\n",
      "<class 'bool'>\n",
      "<class 'list'>\n",
      "<class 'tuple'>\n",
      "<class 'range'>\n",
      "<class 'dict'>\n",
      "<class 'set'>\n"
     ]
    }
   ],
   "source": [
    "# Understanding Types\n",
    "\n",
    "types_list = [str, int, float, bool, list, tuple, range, dict, set]\n",
    "\n",
    "for d_type in types_list:\n",
    "    print(d_type)"
   ]
  },
  {
   "cell_type": "code",
   "execution_count": 26,
   "id": "c0383dcc",
   "metadata": {},
   "outputs": [
    {
     "name": "stdout",
     "output_type": "stream",
     "text": [
      "<class 'str'>\n",
      "<class 'int'>\n",
      "<class 'float'>\n",
      "<class 'bool'>\n",
      "<class 'list'>\n",
      "<class 'tuple'>\n",
      "<class 'range'>\n",
      "<class 'dict'>\n",
      "<class 'set'>\n"
     ]
    }
   ],
   "source": [
    "data_types_list = ['Nico', 1, 1.0, True, [0,0], (0,1), range(0,10), {'Henry': 'Awesome'}, {0,1,9}]\n",
    "\n",
    "for data in data_types_list:\n",
    "    print(type(data))"
   ]
  },
  {
   "cell_type": "code",
   "execution_count": 27,
   "id": "5588b6aa",
   "metadata": {},
   "outputs": [
    {
     "name": "stdout",
     "output_type": "stream",
     "text": [
      "{'Henry': 'Awesome', 'Nico': 'Bad'}\n"
     ]
    }
   ],
   "source": [
    "# Combining Like Types (works)\n",
    "\n",
    "new_int = 1 + 2\n",
    "new_float = 1.2 + 3.4\n",
    "new_string = \"Nico\" + \"Moran\"\n",
    "new_list = [0,1,2] + [1,2,3]\n",
    "new_dict = {'Henry': 'Awesome'} | {'Nico': 'Bad'}\n",
    "\n",
    "print(new_dict)"
   ]
  },
  {
   "cell_type": "markdown",
   "id": "05e9f33d",
   "metadata": {},
   "source": [
    "### **String Methods**\n",
    "\n",
    ".find() -- Returns the index of the sub-string you wish to find\n",
    "\n",
    ".center() -- Centers the text within a given amount of spaces or specified characters\n",
    "\n",
    ".split() -- Splits the string on some given character\n",
    "\n",
    ".strip() -- Removes white space\n",
    "\n",
    ".join() -- Joins list items into a string\n",
    "\n",
    ".lower() -- Converts to lowercase\n",
    "\n",
    ".upper() -- Converts to uppercase\n",
    "\n",
    ".capitalize() -- Capitalizes the string\n",
    "\n",
    ".startswith() -- Checks if a string starts with a certain string (returns boolean)\n",
    "\n",
    ".endswith() -- Checks if a string ends with a certain string (returns boolean)\n",
    "\n",
    ".format() -- Used to insert an item into a string, helps for dynamic programming"
   ]
  },
  {
   "cell_type": "code",
   "execution_count": 28,
   "id": "8db0f05f",
   "metadata": {},
   "outputs": [],
   "source": [
    "string = \"Quant Single... Nico\"\n",
    "string = \"Quant Duo... Nico and Henry\""
   ]
  },
  {
   "cell_type": "code",
   "execution_count": 29,
   "id": "aa451eea",
   "metadata": {},
   "outputs": [
    {
     "name": "stdout",
     "output_type": "stream",
     "text": [
      "Q\n",
      "u\n",
      "a\n",
      "n\n",
      "t\n",
      " \n",
      "D\n",
      "u\n",
      "o\n",
      ".\n",
      ".\n",
      ".\n",
      " \n",
      "N\n",
      "i\n",
      "c\n",
      "o\n",
      " \n",
      "a\n",
      "n\n",
      "d\n",
      " \n",
      "H\n",
      "e\n",
      "n\n",
      "r\n",
      "y\n"
     ]
    }
   ],
   "source": [
    "# A str is iterable\n",
    "\n",
    "for l in string:\n",
    "    print(l)"
   ]
  },
  {
   "cell_type": "code",
   "execution_count": 30,
   "id": "174948a8",
   "metadata": {},
   "outputs": [
    {
     "data": {
      "text/plain": [
       "['__add__',\n",
       " '__class__',\n",
       " '__contains__',\n",
       " '__delattr__',\n",
       " '__dir__',\n",
       " '__doc__',\n",
       " '__eq__',\n",
       " '__format__',\n",
       " '__ge__',\n",
       " '__getattribute__',\n",
       " '__getitem__',\n",
       " '__getnewargs__',\n",
       " '__getstate__',\n",
       " '__gt__',\n",
       " '__hash__',\n",
       " '__init__',\n",
       " '__init_subclass__',\n",
       " '__iter__',\n",
       " '__le__',\n",
       " '__len__',\n",
       " '__lt__',\n",
       " '__mod__',\n",
       " '__mul__',\n",
       " '__ne__',\n",
       " '__new__',\n",
       " '__reduce__',\n",
       " '__reduce_ex__',\n",
       " '__repr__',\n",
       " '__rmod__',\n",
       " '__rmul__',\n",
       " '__setattr__',\n",
       " '__sizeof__',\n",
       " '__str__',\n",
       " '__subclasshook__',\n",
       " 'capitalize',\n",
       " 'casefold',\n",
       " 'center',\n",
       " 'count',\n",
       " 'encode',\n",
       " 'endswith',\n",
       " 'expandtabs',\n",
       " 'find',\n",
       " 'format',\n",
       " 'format_map',\n",
       " 'index',\n",
       " 'isalnum',\n",
       " 'isalpha',\n",
       " 'isascii',\n",
       " 'isdecimal',\n",
       " 'isdigit',\n",
       " 'isidentifier',\n",
       " 'islower',\n",
       " 'isnumeric',\n",
       " 'isprintable',\n",
       " 'isspace',\n",
       " 'istitle',\n",
       " 'isupper',\n",
       " 'join',\n",
       " 'ljust',\n",
       " 'lower',\n",
       " 'lstrip',\n",
       " 'maketrans',\n",
       " 'partition',\n",
       " 'removeprefix',\n",
       " 'removesuffix',\n",
       " 'replace',\n",
       " 'rfind',\n",
       " 'rindex',\n",
       " 'rjust',\n",
       " 'rpartition',\n",
       " 'rsplit',\n",
       " 'rstrip',\n",
       " 'split',\n",
       " 'splitlines',\n",
       " 'startswith',\n",
       " 'strip',\n",
       " 'swapcase',\n",
       " 'title',\n",
       " 'translate',\n",
       " 'upper',\n",
       " 'zfill']"
      ]
     },
     "execution_count": 30,
     "metadata": {},
     "output_type": "execute_result"
    }
   ],
   "source": [
    "# Let's take a look at all the methods!\n",
    "\n",
    "dir(string)"
   ]
  },
  {
   "cell_type": "code",
   "execution_count": 31,
   "id": "b6d6f0de",
   "metadata": {},
   "outputs": [
    {
     "name": "stdout",
     "output_type": "stream",
     "text": [
      "True\n",
      "False\n",
      "Found at index 92\n",
      "Not found...\n"
     ]
    }
   ],
   "source": [
    "# Finding a character\n",
    "\n",
    "news_text_RXRX = \"According to Recursion Pharmaceuticals, Inc. (NASDAQ:RXRX), the new model is powered by its NVIDIA supercomputer for its training and validation, and represents the next step beyond existing biomolecular structure prediction models like AlphaFold3 and its predecessor, Boltz-1.\"\n",
    "news_text_AVGO = \"Broadcom AVGO -5.00%decrease; red down pointing triangle is making a lot of money by helping tech companies manufacture custom chips that speed up artificial-intelligence computations. Investors seem to be giving it too much credit for that. Broadcom’s stock is the fifth-best-performing in the S&P 500 over the past two months, rising more than 70% over the period—a stunning rise given the company’s already large size. It eclipsed a $1 trillion valuation on the way up, surpassing Walmart and Tesla, and becoming the seventh-most-valuable listed U.S. company.\"\n",
    "\n",
    "news_text_RXRX.find('NVIDIA') # This evaluates to first character's index of the given string\n",
    "news_text_AVGO.find('NVIDIA') # This evaluates to -1, or whenever the character we want to find is not in the list then -1\n",
    "\n",
    "news_text_list = [news_text_RXRX, news_text_AVGO]\n",
    "\n",
    "for news_text in news_text_list:\n",
    "    if 'NVIDIA' in news_text:\n",
    "        print('True')\n",
    "    else:\n",
    "        print('False')\n",
    "\n",
    "for news_text in news_text_list:\n",
    "    idx = news_text.find('NVIDIA')\n",
    "    if idx >= 0:\n",
    "        print(f\"Found at index {idx}\")\n",
    "    else:\n",
    "        print('Not found...')"
   ]
  },
  {
   "cell_type": "code",
   "execution_count": 32,
   "id": "f13801f2",
   "metadata": {},
   "outputs": [
    {
     "data": {
      "text/plain": [
       "'      Quant Duo... Nico and Henry       '"
      ]
     },
     "execution_count": 32,
     "metadata": {},
     "output_type": "execute_result"
    }
   ],
   "source": [
    "# Trying out a few str methods\n",
    "\n",
    "string.center(40)"
   ]
  },
  {
   "cell_type": "code",
   "execution_count": 33,
   "id": "f20f37b7",
   "metadata": {},
   "outputs": [
    {
     "data": {
      "text/plain": [
       "'***********Quant Duo... Nico and Henry************'"
      ]
     },
     "execution_count": 33,
     "metadata": {},
     "output_type": "execute_result"
    }
   ],
   "source": [
    "string.center(50, \"*\")"
   ]
  },
  {
   "cell_type": "code",
   "execution_count": 34,
   "id": "0e92e6d1",
   "metadata": {},
   "outputs": [
    {
     "data": {
      "text/plain": [
       "(False, True)"
      ]
     },
     "execution_count": 34,
     "metadata": {},
     "output_type": "execute_result"
    }
   ],
   "source": [
    "string.startswith('e'), string.startswith('Q')"
   ]
  },
  {
   "cell_type": "code",
   "execution_count": 35,
   "id": "b8dd3039",
   "metadata": {},
   "outputs": [
    {
     "data": {
      "text/plain": [
       "(False, True)"
      ]
     },
     "execution_count": 35,
     "metadata": {},
     "output_type": "execute_result"
    }
   ],
   "source": [
    "string.endswith('e'), string.endswith('Henry')"
   ]
  },
  {
   "cell_type": "code",
   "execution_count": 36,
   "id": "2a7bde1b",
   "metadata": {},
   "outputs": [
    {
     "data": {
      "text/plain": [
       "'Quant Duo... Nico and Henry'"
      ]
     },
     "execution_count": 36,
     "metadata": {},
     "output_type": "execute_result"
    }
   ],
   "source": [
    "string.strip()"
   ]
  },
  {
   "cell_type": "code",
   "execution_count": 37,
   "id": "470b7715",
   "metadata": {},
   "outputs": [
    {
     "data": {
      "text/plain": [
       "'88Henry88888888'"
      ]
     },
     "execution_count": 37,
     "metadata": {},
     "output_type": "execute_result"
    }
   ],
   "source": [
    "name_str = \"88Henry88888888\"\n",
    "name_str.strip()"
   ]
  },
  {
   "cell_type": "code",
   "execution_count": 38,
   "id": "0fd24edd",
   "metadata": {},
   "outputs": [
    {
     "data": {
      "text/plain": [
       "'Henry'"
      ]
     },
     "execution_count": 38,
     "metadata": {},
     "output_type": "execute_result"
    }
   ],
   "source": [
    "name_str.strip('8')"
   ]
  },
  {
   "cell_type": "code",
   "execution_count": 39,
   "id": "33651844",
   "metadata": {},
   "outputs": [
    {
     "name": "stdout",
     "output_type": "stream",
     "text": [
      "--- BOND --- \n",
      "\n",
      "Issuer: Xerox\n",
      "Coupon: 4.800%\n",
      "Maturity: 3/1/2035\n",
      "Type: Corporate Bond\n",
      "Optionality: Non-callable\n",
      "Price: $ 100.00\n"
     ]
    }
   ],
   "source": [
    "# Formatting: f string\n",
    "\n",
    "price = 100\n",
    "\n",
    "bond = f\"\"\"--- BOND --- \\n\n",
    "Issuer: Xerox\n",
    "Coupon: 4.800%\n",
    "Maturity: 3/1/2035\n",
    "Type: Corporate Bond\n",
    "Optionality: Non-callable\n",
    "Price: ${price: 0.2f}\"\"\" # Since a bond price will change, we want to make it dynamic\n",
    "\n",
    "print(bond)"
   ]
  },
  {
   "cell_type": "code",
   "execution_count": 40,
   "id": "a589bbbd",
   "metadata": {},
   "outputs": [
    {
     "name": "stdout",
     "output_type": "stream",
     "text": [
      "--- BOND --- \n",
      "\n",
      "Issuer: Xerox\n",
      "Coupon: 4.800%\n",
      "Maturity: 3/1/2035\n",
      "Type: Corporate Bond\n",
      "Optionality: Non-callable\n",
      "Price: $100\n"
     ]
    }
   ],
   "source": [
    "# Formatting: .format()\n",
    "\n",
    "bond = \"\"\"--- BOND --- \n",
    "\n",
    "Issuer: Xerox\n",
    "Coupon: 4.800%\n",
    "Maturity: 3/1/2035\n",
    "Type: Corporate Bond\n",
    "Optionality: Non-callable\n",
    "Price: ${0}\"\"\".format(price)\n",
    "\n",
    "print(bond)"
   ]
  },
  {
   "cell_type": "markdown",
   "id": "c86b1394",
   "metadata": {},
   "source": [
    "## **Attributes, Methods, & Classes**\n",
    "\n",
    "- Classes\n",
    "    - Define the objects structure\n",
    "\n",
    "- Methods\n",
    "    - Adds functionality to the object\n",
    "    - Functions that belong to the class and help manipulate the object or the object's data\n",
    "\n",
    "- Attributes\n",
    "    - Hold key data or information about the object\n",
    "    - Characteristics or properties that describe the object"
   ]
  },
  {
   "cell_type": "code",
   "execution_count": 41,
   "id": "29bea4d5",
   "metadata": {},
   "outputs": [],
   "source": [
    "# Class Str\n",
    "\n",
    "class Str:\n",
    "    def __init__(self, value=\"\"):\n",
    "        self._data = value\n",
    "\n",
    "    def __str__(self):\n",
    "        return self._data\n",
    "    \n",
    "    def __len__(self):\n",
    "        count = 0\n",
    "\n",
    "        for char in self._data:\n",
    "            count += 1\n",
    "\n",
    "        return count\n",
    "    \n",
    "    def find(self, target):\n",
    "        if len(target) > self.__len__():\n",
    "            return -1\n",
    "        \n",
    "        for idx in range(self.__len__()):\n",
    "            if target == self._data[idx: idx + len(target)]:\n",
    "                return idx\n",
    "            else:\n",
    "                continue\n",
    "            \n",
    "        return -1"
   ]
  },
  {
   "cell_type": "code",
   "execution_count": 42,
   "id": "9dd9d044",
   "metadata": {},
   "outputs": [],
   "source": [
    "string = Str(value='Nico and Henry')"
   ]
  },
  {
   "cell_type": "code",
   "execution_count": 43,
   "id": "af3f9414",
   "metadata": {},
   "outputs": [
    {
     "data": {
      "text/plain": [
       "9"
      ]
     },
     "execution_count": 43,
     "metadata": {},
     "output_type": "execute_result"
    }
   ],
   "source": [
    "string.find('Henry')"
   ]
  },
  {
   "cell_type": "code",
   "execution_count": 44,
   "id": "0214c28e",
   "metadata": {},
   "outputs": [
    {
     "data": {
      "text/plain": [
       "-1"
      ]
     },
     "execution_count": 44,
     "metadata": {},
     "output_type": "execute_result"
    }
   ],
   "source": [
    "string.find('Hello')"
   ]
  }
 ],
 "metadata": {
  "kernelspec": {
   "display_name": "base",
   "language": "python",
   "name": "python3"
  },
  "language_info": {
   "codemirror_mode": {
    "name": "ipython",
    "version": 3
   },
   "file_extension": ".py",
   "mimetype": "text/x-python",
   "name": "python",
   "nbconvert_exporter": "python",
   "pygments_lexer": "ipython3",
   "version": "3.12.3"
  }
 },
 "nbformat": 4,
 "nbformat_minor": 5
}
