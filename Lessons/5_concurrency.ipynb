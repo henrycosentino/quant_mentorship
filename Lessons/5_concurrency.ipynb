{
 "cells": [
  {
   "cell_type": "markdown",
   "id": "01d1d404",
   "metadata": {},
   "source": [
    "# **Concurrency**\n",
    "\n",
    "- Concurrency is the process in which there are multiple tasks running and completed during overlapping periods of time\n",
    "\n",
    "- Requires at least two tasks to exist\n",
    "\n",
    "- A **thread** is a representation of the actual sequence of processor instructions that are actively being executed\n",
    "\n",
    "- Useful for **I/O Bound Tasks:** when a program spends time waiting for file reads, network requests, database queries, or API calls\n",
    "\n",
    "- Global Interpreter Lock (GIL): a mutex that protects access to Python objects, preventing multiple threads from executing Python bytecodes at once (only one thread can use the shared resource at once)"
   ]
  },
  {
   "cell_type": "code",
   "execution_count": 21,
   "id": "6616d6e4",
   "metadata": {},
   "outputs": [],
   "source": [
    "# Imports\n",
    "\n",
    "import pandas as pd\n",
    "import yfinance as yf\n",
    "from concurrent.futures import ThreadPoolExecutor"
   ]
  },
  {
   "cell_type": "markdown",
   "id": "49f961a5",
   "metadata": {},
   "source": [
    "### Normal yfinance API call"
   ]
  },
  {
   "cell_type": "code",
   "execution_count": 22,
   "id": "d41ca4a7",
   "metadata": {},
   "outputs": [
    {
     "name": "stdout",
     "output_type": "stream",
     "text": [
      "CPU times: user 76.3 ms, sys: 8.99 ms, total: 85.2 ms\n",
      "Wall time: 1.8 s\n"
     ]
    }
   ],
   "source": [
    "%%time\n",
    "\n",
    "stock = yf.Ticker('TSLA')\n",
    "expirations = list(stock.options)[:10]\n",
    "\n",
    "expiry_df_ls = [] # List of different expiry call option data frames\n",
    "for date in expirations:\n",
    "    expiry_df_ls.append(pd.DataFrame(stock.option_chain(date).calls))"
   ]
  },
  {
   "cell_type": "code",
   "execution_count": 23,
   "id": "9955c523",
   "metadata": {},
   "outputs": [],
   "source": [
    "def get_options(stock, date):\n",
    "    option_chain = stock.option_chain(date)\n",
    "    return pd.DataFrame(option_chain.calls)"
   ]
  },
  {
   "cell_type": "markdown",
   "id": "f1538c50",
   "metadata": {},
   "source": [
    "### Threaded yfinance API call"
   ]
  },
  {
   "cell_type": "code",
   "execution_count": 24,
   "id": "6778ca0f",
   "metadata": {},
   "outputs": [
    {
     "name": "stdout",
     "output_type": "stream",
     "text": [
      "CPU times: user 195 ms, sys: 40.4 ms, total: 235 ms\n",
      "Wall time: 738 ms\n"
     ]
    }
   ],
   "source": [
    "%%time\n",
    "\n",
    "stock = yf.Ticker('NVDA')\n",
    "expirations = list(stock.options)[:10]\n",
    "\n",
    "with ThreadPoolExecutor(max_workers=min(len(expirations), 10)) as executor:\n",
    "    futures = [executor.submit(get_options, stock, date) for date in expirations]\n",
    "    expiry_df_ls = [future.result() for future in futures]"
   ]
  }
 ],
 "metadata": {
  "kernelspec": {
   "display_name": "base",
   "language": "python",
   "name": "python3"
  },
  "language_info": {
   "codemirror_mode": {
    "name": "ipython",
    "version": 3
   },
   "file_extension": ".py",
   "mimetype": "text/x-python",
   "name": "python",
   "nbconvert_exporter": "python",
   "pygments_lexer": "ipython3",
   "version": "3.12.3"
  }
 },
 "nbformat": 4,
 "nbformat_minor": 5
}
